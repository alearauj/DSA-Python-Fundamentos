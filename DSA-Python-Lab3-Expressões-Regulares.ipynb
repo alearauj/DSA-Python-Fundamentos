{
 "cells": [
  {
   "attachments": {},
   "cell_type": "markdown",
   "metadata": {},
   "source": [
    "# <font color='blue'>Data Science Academy</font>\n",
    "\n",
    "## <font color='blue'>Fundamentos de Linguagem Python Para Análise de Dados e Data Science</font>\n",
    "\n",
    "## <font color='blue'>Lab 3 - Trabalhando com Expressões Regulares em Python com ChatGPT</font>"
   ]
  },
  {
   "cell_type": "code",
   "execution_count": 1,
   "metadata": {},
   "outputs": [
    {
     "name": "stdout",
     "output_type": "stream",
     "text": [
      "Versão da Linguagem Python Usada Neste Jupyter Notebook: 3.9.13\n"
     ]
    }
   ],
   "source": [
    "# Versão da Linguagem Python\n",
    "from platform import python_version\n",
    "print('Versão da Linguagem Python Usada Neste Jupyter Notebook:', python_version())"
   ]
  },
  {
   "attachments": {},
   "cell_type": "markdown",
   "metadata": {},
   "source": [
    "## Expressões Regulares\n",
    "\n",
    "Expressões regulares são padrões usados para combinar ou encontrar ocorrências de sequências de caracteres em uma string. Em Python, expressões regulares são geralmente usadas para manipular strings e realizar tarefas como validação de entrada de dados, extração de informações de strings e substituição de texto."
   ]
  },
  {
   "cell_type": "code",
   "execution_count": 5,
   "metadata": {},
   "outputs": [],
   "source": [
    "import re"
   ]
  },
  {
   "cell_type": "code",
   "execution_count": 2,
   "metadata": {},
   "outputs": [],
   "source": [
    "texto = \"Meu e-mail é exemplo@gmail.com e você pode me contatar em outro_email@yahoo.com.\""
   ]
  },
  {
   "cell_type": "code",
   "execution_count": 6,
   "metadata": {},
   "outputs": [],
   "source": [
    "# Expressão regular para contar quantas vezes o caracter arroba aparece no texto\n",
    "resultado = len(re.findall(\"@\", texto))"
   ]
  },
  {
   "cell_type": "code",
   "execution_count": 7,
   "metadata": {},
   "outputs": [
    {
     "name": "stdout",
     "output_type": "stream",
     "text": [
      "O caractere '@' apareceu 2 vezes no texto.\n"
     ]
    }
   ],
   "source": [
    "print(\"O caractere '@' apareceu\", resultado, \"vezes no texto.\")"
   ]
  },
  {
   "cell_type": "code",
   "execution_count": 8,
   "metadata": {},
   "outputs": [],
   "source": [
    "# Expressão regular para extrair a palavra que aparece após a palavra \"você\" em um texto\n",
    "resultado = re.findall(r'você (\\w+)', texto)"
   ]
  },
  {
   "cell_type": "code",
   "execution_count": 11,
   "metadata": {},
   "outputs": [
    {
     "name": "stdout",
     "output_type": "stream",
     "text": [
      "A palavra após 'você' é: pode\n"
     ]
    }
   ],
   "source": [
    "print(\"A palavra após 'você' é:\", resultado[0])"
   ]
  },
  {
   "attachments": {},
   "cell_type": "markdown",
   "metadata": {},
   "source": [
    "Nota: O r antes da string que representa a expressão regular em Python é usado para indicar que a string é uma string literal raw. Isso significa que as barras invertidas (\\) não são interpretadas como caracteres de escape, mas são incluídas na expressão regular como parte do padrão."
   ]
  },
  {
   "cell_type": "code",
   "execution_count": 12,
   "metadata": {},
   "outputs": [],
   "source": [
    "# Expressão regular para extrair endereços de e-mail de uma string\n",
    "emails = re.findall(r'\\b[A-Za-z0-9._%+-]+@[A-Za-z0-9.-]+\\.[A-Z|a-z]{2,}\\b', texto)"
   ]
  },
  {
   "cell_type": "code",
   "execution_count": 13,
   "metadata": {},
   "outputs": [
    {
     "name": "stdout",
     "output_type": "stream",
     "text": [
      "['exemplo@gmail.com', 'outro_email@yahoo.com']\n"
     ]
    }
   ],
   "source": [
    "print(emails)"
   ]
  },
  {
   "attachments": {},
   "cell_type": "markdown",
   "metadata": {},
   "source": [
    "Visite sua amiga, a documentação:\n",
    "    \n",
    "https://docs.python.org/3.9/library/re.html"
   ]
  },
  {
   "cell_type": "code",
   "execution_count": 14,
   "metadata": {},
   "outputs": [],
   "source": [
    "text = \"O aluno estava incrivelmente perdido, mas encontrou a DSA e rapidamente começou a aprender.\""
   ]
  },
  {
   "cell_type": "code",
   "execution_count": 15,
   "metadata": {},
   "outputs": [
    {
     "name": "stdout",
     "output_type": "stream",
     "text": [
      "15-28: incrivelmente\n",
      "60-71: rapidamente\n"
     ]
    }
   ],
   "source": [
    "# Extraindo os advérbios da frase\n",
    "for m in re.finditer(r\"\\w+mente\\b\", text):\n",
    "    print('%02d-%02d: %s' % (m.start(), m.end(), m.group(0)))"
   ]
  },
  {
   "attachments": {},
   "cell_type": "markdown",
   "metadata": {},
   "source": [
    "## REGEX com ChatGPT\n",
    "\n",
    "Música: Champagne Problems\n",
    "\n",
    "Taylor Swift"
   ]
  },
  {
   "cell_type": "code",
   "execution_count": 18,
   "metadata": {},
   "outputs": [],
   "source": [
    "# Variável do tipo string\n",
    "musica = '''\n",
    "You booked the night train for a reason\n",
    "So you could sit there in this hurt\n",
    "Bustling crowds or silent sleepers\n",
    "You're not sure which is worse\n",
    "Because I dropped your hand while dancing\n",
    "Left you out there standing\n",
    "Crestfallen on the landing\n",
    "Champagne problems\n",
    "Your mom's ring in your pocket\n",
    "My picture in your wallet\n",
    "Your heart was glass, I dropped it\n",
    "Champagne problems\n",
    "You told your family for a reason\n",
    "You couldn't keep it in\n",
    "Your sister splashed out on the bottle\n",
    "Now no one's celebrating\n",
    "Dom Pérignon, you brought it\n",
    "No crowd of friends applauded\n",
    "Your hometown skeptics called it\n",
    "Champagne problems\n",
    "You had a speech, you're speechless\n",
    "Love slipped beyond your reaches\n",
    "And I couldn't give a reason\n",
    "Champagne problems\n",
    "Your Midas touch on the Chevy door\n",
    "November flush and your flannel cure\n",
    "\"This dorm was once a madhouse\"\n",
    "I made a joke, \"Well, it's made for me\"\n",
    "How evergreen, our group of friends\n",
    "Don't think we'll say that word again\n",
    "And soon they'll have the nerve to deck the halls\n",
    "That we once walked through\n",
    "One for the money, two for the show\n",
    "I never was ready, so I watch you go\n",
    "Sometimes you just don't know the answer\n",
    "'Til someone's on their knees and asks you\n",
    "\"She would've made such a lovely bride\n",
    "What a shame she's fucked in the head, \" they said\n",
    "But you'll find the real thing instead\n",
    "She'll patch up your tapestry that I shred\n",
    "And hold your hand while dancing\n",
    "Never leave you standing\n",
    "Crestfallen on the landing\n",
    "With champagne problems\n",
    "Your mom's ring in your pocket\n",
    "Her picture in your wallet\n",
    "You won't remember all my\n",
    "Champagne problems\n",
    "You won't remember all my\n",
    "Champagne problems\n",
    "'''"
   ]
  },
  {
   "cell_type": "code",
   "execution_count": 19,
   "metadata": {},
   "outputs": [
    {
     "name": "stdout",
     "output_type": "stream",
     "text": [
      "\n",
      "You booked the night train for a reason\n",
      "So you could sit there in this hurt\n",
      "Bustling crowds or silent sleepers\n",
      "You're not sure which is worse\n",
      "Because I dropped your hand while dancing\n",
      "Left you out there standing\n",
      "Crestfallen on the landing\n",
      "Champagne problems\n",
      "Your mom's ring in your pocket\n",
      "My picture in your wallet\n",
      "Your heart was glass, I dropped it\n",
      "Champagne problems\n",
      "You told your family for a reason\n",
      "You couldn't keep it in\n",
      "Your sister splashed out on the bottle\n",
      "Now no one's celebrating\n",
      "Dom Pérignon, you brought it\n",
      "No crowd of friends applauded\n",
      "Your hometown skeptics called it\n",
      "Champagne problems\n",
      "You had a speech, you're speechless\n",
      "Love slipped beyond your reaches\n",
      "And I couldn't give a reason\n",
      "Champagne problems\n",
      "Your Midas touch on the Chevy door\n",
      "November flush and your flannel cure\n",
      "\"This dorm was once a madhouse\"\n",
      "I made a joke, \"Well, it's made for me\"\n",
      "How evergreen, our group of friends\n",
      "Don't think we'll say that word again\n",
      "And soon they'll have the nerve to deck the halls\n",
      "That we once walked through\n",
      "One for the money, two for the show\n",
      "I never was ready, so I watch you go\n",
      "Sometimes you just don't know the answer\n",
      "'Til someone's on their knees and asks you\n",
      "\"She would've made such a lovely bride\n",
      "What a shame she's fucked in the head, \" they said\n",
      "But you'll find the real thing instead\n",
      "She'll patch up your tapestry that I shred\n",
      "And hold your hand while dancing\n",
      "Never leave you standing\n",
      "Crestfallen on the landing\n",
      "With champagne problems\n",
      "Your mom's ring in your pocket\n",
      "Her picture in your wallet\n",
      "You won't remember all my\n",
      "Champagne problems\n",
      "You won't remember all my\n",
      "Champagne problems\n",
      "\n"
     ]
    }
   ],
   "source": [
    "print(musica)"
   ]
  },
  {
   "cell_type": "code",
   "execution_count": 20,
   "metadata": {},
   "outputs": [
    {
     "name": "stdout",
     "output_type": "stream",
     "text": [
      "O caracter a aparece 84 vezes no texto.\n"
     ]
    }
   ],
   "source": [
    "# 1- Crie um REGEX para contar quantas vezes o caracter \"a\" aparece em todo o texto da música.\n",
    "\n",
    "ocorrencias = re.findall('a', musica)\n",
    "quantidade = len(ocorrencias)\n",
    "print('O caracter a aparece',quantidade,'vezes no texto.')"
   ]
  },
  {
   "cell_type": "code",
   "execution_count": 28,
   "metadata": {},
   "outputs": [
    {
     "name": "stdout",
     "output_type": "stream",
     "text": [
      "A palavra champagne aparece 7 vezes no texto.\n"
     ]
    }
   ],
   "source": [
    "# 2- Crie um REGEX em Python para contar quantas vezes a palavra \"champagne\" aparece na música.\n",
    "\n",
    "count = len(re.findall('Champagne',musica,re.IGNORECASE))\n",
    "print('A palavra champagne aparece',count,'vezes no texto.')"
   ]
  },
  {
   "cell_type": "code",
   "execution_count": 37,
   "metadata": {},
   "outputs": [
    {
     "name": "stdout",
     "output_type": "stream",
     "text": [
      "['was']\n"
     ]
    }
   ],
   "source": [
    "# 4- Crie um REGEX que extrai qualquer palavra cujo antecessor seja a palavra \"heart\" e o sucessor seja a palavra \"glass\" em um texto.\n",
    "\n",
    "padrao = r'heart\\s+(\\w+)\\s+glass'\n",
    "palavras = re.findall(padrao, musica)\n",
    "print(palavras)"
   ]
  },
  {
   "attachments": {},
   "cell_type": "markdown",
   "metadata": {},
   "source": [
    "# Fim"
   ]
  },
  {
   "attachments": {},
   "cell_type": "markdown",
   "metadata": {},
   "source": [
    "### Obrigado\n",
    "\n",
    "### Visite o Blog da Data Science Academy - <a href=\"http://blog.dsacademy.com.br\">Blog DSA</a>"
   ]
  }
 ],
 "metadata": {
  "kernelspec": {
   "display_name": "Python 3 (ipykernel)",
   "language": "python",
   "name": "python3"
  },
  "language_info": {
   "codemirror_mode": {
    "name": "ipython",
    "version": 3
   },
   "file_extension": ".py",
   "mimetype": "text/x-python",
   "name": "python",
   "nbconvert_exporter": "python",
   "pygments_lexer": "ipython3",
   "version": "3.9.7"
  }
 },
 "nbformat": 4,
 "nbformat_minor": 1
}
